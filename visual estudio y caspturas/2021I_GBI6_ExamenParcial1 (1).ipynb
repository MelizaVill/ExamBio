{
 "cells": [
  {
   "cell_type": "markdown",
   "metadata": {},
   "source": [
    "<img src=\"https://www.ikiam.edu.ec/img/logo-ikiam-grey.png\" width=300 height=240 />\n",
    "\n",
    "# EXAMEN PARCIAL 1\n",
    "\n",
    "## GBI6-2021II: BIOINFORMÁTICA\n",
    "\n",
    "**Apellidos y nombre** <--- Villa Toledo Sthefanny Meliza \n",
    "\n",
    "**14-01-2021**"
   ]
  },
  {
   "cell_type": "markdown",
   "metadata": {},
   "source": [
    "<font color='red'>NO AGREGUE NUEVAS CELDAS, UTILICE ÚNICAMENTE LAS QUE ESTÁN CREADAS</font>"
   ]
  },
  {
   "cell_type": "markdown",
   "metadata": {},
   "source": [
    "# 1. UNIX\n",
    "\n",
    "## Ejercicio 1\n",
    "Para esta pregunta debe realizar previamente lo siguiente: \n",
    "\n",
    "- Imprimir el directorio de trabajo actual\n",
    "- Crear un directorio test1\n",
    "- No cambie de directorio, pero los items 4, 5 y 6 deben guardarse en el directorio creado en el paso 2. \n",
    "- Crear el archivo test1.txt\n",
    "- Guardar el texto Hola GBI6 en un archivo test2.txt\n",
    "- Guardar la instrucción print(\"Hola GBI6\")  en el archivo test1.py\n",
    "\n",
    "Luego seleccione la instrucción que enlista los archivos del directorio test1 y luego borra test1.py del directorio test1",
    "\n",
    "<img src=\"./Ejarcicio 1.png\" width=600 height=450 />\n",
    "\n",
    "otra opcion seria la f sin embagro solo nos muestra las carpetas existentes no el directorio\n",
    "- ls -lh test1 ; rm test1/test1.py \n",
    "- ls -l test1 ; rm test1/test1.py\n"
    "\n",
    "## Ejercicio 2\n",
    "Seleccione la opción el código que imprime el texto: Hola GBI6\n",
    "\n",
    "\n",
    "<img src=\"./Ejercicio 2.png/\" width=600 height=450 />\n",
    "\n",
    "\n",
    "## Ejercicio 3\n",
    "Para esta pregunta debe realizar previamente lo siguiente: \n",
    "\n",
    "- Imprimir el directorio de trabajo actual \n",
    "- Crear un directorio test1\n",
    "- No cambie de directorio, pero los items 4, 5 y 6 deben guardarse en el directorio creado en el paso 2. \n",
    "- Crear el archivo test1.txt\n",
    "- Guardar el texto Hola GBI6 en un archivo test2.txt\n",
    "- Guardar la instrucción print(\"Hola GBI6\")  en el archivo test1.py\n",
    "\n",
    "Luego seleccione la instrucción que imprima el número de elementos del directorio test1",
    "\n",
    "<img src=\"./ejercicio 3.png\" width=600 height=450 />\n",
    "\n",
    "me imprimio 2 archivos en mi carptea ya que borre uno \n",
    " $ ls test1 | wc -l \n",
    "\n",
    "## Ejercicio 4\n",
    "Resuelva el ejercicio 1.10.4  Data Explorer. \n",
    "\n",
    "- Resuelva el ejercicio en un documento de nombre ejercicio_1104.sh\n",
    "- Cargue el documento ejercicio_1104.sh en GitHub utilizando git push. \n",
    "- Realice el video explicativo de la resolución ejercicio y guarde en YouTube en formato \"Público\" o \"Unlisted\", y pegue el enlace en el cuaderno de Jupyter.\n",
    "\n",
    "La respuesta a este ejercicio es el enlace en GitHub de su archivo: ejercicio_1104.sh\n" <https://github.com/MelizaVill/ExamBio/blob/main/ejercicio_1104.sh>
   ]
  },
  {
   "cell_type": "code",
   "execution_count": 1,
   "metadata": {},
   "outputs": [
   
   
     "execution_count": 1,
     "metadata": {},
     "output_type": "execute_result"
   
   ],
   "source": [
    "# Coloque aquí su video del ejercicio 4\n", <https://youtu.be/MqL8KmUXudQ>
    ]
  "\n",
    "<img src=\"./Ejercicio 4.png\" width=600 height=450 />\n",
    "\n",
  {
   "cell_type": "markdown",
   "metadata": {},
   "source": 
    "\n",
    "## Ejercicio 5\n",
    "Resuelva el ejercicio 1.10.3 Plant–Pollinator Networks. \n",
    "\n",
    "- Resuelva el ejercicio en un documento de nombre ejercicio_1103.sh\n",
    "- Cargue el documento ejercicio_1103.sh en GitHub utilizando git push. \n",
    "- Realice el video explicativo de la resolución ejercicio y guarde en YouTube en formato \"Público\" o \"Unlisted\", y pegue el enlace en el cuaderno de Jupyter.\n",
    "\n",
    "La respuesta a este ejercicio es el enlace en GitHub de su archivo: ejercicio_1103.sh \n"
   ]
  },
  {
   "cell_type": "code",
   "execution_count": 3,
   "metadata": {},
   "outputs": [
    {
     "data": {
      "text/html": [
       ""https://www.youtube.com/embed/YOiKzSyUs48 "
      ],
      "text/plain": [
       "<IPython.core.display.HTML object>"
      ]
     }
        "\n",
    "<img src=\"./Ejercicio 5.png\" width=600 height=450 />\n",
    "\n",
       
     "execution_count": 3,
     "metadata": {},
     "output_type": "execute_result"
    }
   ],
   "source": [
    "# Coloque aquí su video del ejercicio 5\n",
    " https://youtu.be/MShsRDhlmt8 \n"
   ]
  },
  {
   "cell_type": "markdown",
   "metadata": {
    "jp-MarkdownHeadingCollapsed": true,
    "tags": []
   },
   "source": [
    "Se subieron correctamente los archibos a mi Git hub. \n",
    "\n",
    "## Ejercicio 6\n",
    "\n",
    "Para este ejercicio tiene que crear previamente lo siguiente: \n",
    "\n",
    "Descargue la data \"SI Table 1\" (10080Table1.xls) de la página https://www.pnas.org/content/suppl/2006/12/27/0610080104.DC1. Esta data corresponde a algunas características de sueño de mamíferos. Seleccione los 10 primeros registros de la columna \"Total sleep time, hr\" y cree una lista de nombre lista1.\n",
    "\n",
    "Relaciones los códigos y las respuestas que salen al ejecutar. "
   ]
  },
  {
   "cell_type": "code",
   "execution_count": 4,
   "metadata": {},
   "outputs": [
    {
     "name": "stdout",
     "output_type": "stream",
     "text": [
      "se añadieron los diez primeros datos\n",
      "el comando lista1[8:] devuelve: [14.9, 9.1]\n",
      "el comando sum(lista1)/len(lista1) devuelve: 13.079999999999998\n",
      "tras el append el comando lista1[-1][2] devuelve: ikiam\n",
      "el comando lista1[5] devuelve: 10.1\n",
      "tras el extend el comando len(lista1) devuelve: 13\n",
      "el comando round(sum(lista1)/len(lista1), 3) devuelve: 13.08\n"
     ]
    }
   ],
    "\n",
    "<img src=\"./Ejercicio 6.png\" width=600 height=450 />\n",
    "\n",
  },
  {
   "cell_type": "markdown",
   "metadata": {},
   "source": [
    "## Ejercicio 7\n",
    "\n",
    "Para este ejercicio debe debe realizar lo siguiente:\n",
    "\n",
    "- Crear un diccionario de nombre dic_aminoacidos, donde se tenga la información de la tabla que se encuentra en http://www.russelllab.org/aas/aas.html.\n",
    "- Utilice como \"key\" los valores de la columna \"AA\" y las columnas \"Hits\" y \"%Abundance\" como \"values\". \n",
    "- Luego de crear el diccionario, extraiga los valores de \"key\" a una lista de nombre \"aminoacidos\"\n",
    "- Extraiga los valores de \"value\" a una lista de nombre \"propiedades\"\n",
    "\n",
    "Para evaluar esta pregunta realice un git push del Jupyter Notebook al repositorio del examen. "
   ]
  },
  {
   "cell_type": "code",
   "execution_count": 5,
   "metadata": {},
   "outputs": [
    {
     "name": "stdout",
     "output_type": "stream",
     "text": [
      "Resultados en la imagen\n"
     ]
        "\n",
    "<img src=\"./ejercicio 7.png\" width=600 height=450 />\n",
    "\n",
    }
   ],
   "source": [
    "# Resolucion:\n",
    "dic_aminoacidos = {"Trp": [1550, 1.34, ], "Cys": [1905, 1.76, ], "His": [1695, 2.26, ], "Arg": [3093, 5.20, ], "Met": [1102, 2.32, ], "Tyr": [1525, 3.25, ], "Gln": [1830, 3.96, ], "Phe": [1616, 4.12, ], "Asp": [1691, 5.12, ], "Pro": [1598, 5.00, ], "Ala": [2018, 7.34, ], "Asn": [1103, 4.57, ], "Lys": [1366, 5.81, ], "Glu": [1471, 6.22, ], "Gly": [1376, 6.89, ], "Thr": [1147, 5.85, ], "Val": [1225, 6.48, ], "Ile": [1033, 5.76, ], "Ser": [1206, 7.38, ], "Leu": [1127, 9.36, ],}
       
  {
   "cell_type": "markdown",
   "metadata": {},
   "source": [
    "## Ejercicio 8\n",
    "\n",
    "Para este ejercicio tiene que crear previamente lo siguiente: \n",
    "\n",
    "- En la data https://github.com/sap0408/mtcars/blob/master/mtcars.csv, seleccione los 10 primeros registros y cree una lista de nombre lista1.\n",
    "\n",
    "Relacione los códigos y las respuestas que salen al ejecutar. "
   ]
  },
  {
   "cell_type": "code",
   "execution_count": 7,
   "metadata": {},
   "outputs": [
    {
     "name": "stdout",
     "output_type": "stream",
     "text": [
      "10\n",
      "\n",
      "inicia la corrida de códigos:\n",
      "ikiam\n",
      "['c', 'd', 'e']\n",
      "d\n",
      "11\n"
     ]
    }
   ],
   "source": [
    "lista1 = [\"Mazda RX4", \"Mazda RX4 Wag", \"Datsun 710", \"Hornet 4 Drive", \"Hornet Sportabout", 
       \"Valiant", \"Duster 360", \"Merc 2400", \"Merc 230", \"Merc 280"]]\n",
    "print(len(lista1)) # permite saber si tenemos las 10 letras\n",
   ]
  }
 ],
 "metadata": {
  "kernelspec": {
   "display_name": "Python 3",
   "language": "python",
   "name": "python3"
  },
  "language_info": {
   "codemirror_mode": {
    "name": "ipython",
    "version": 3
   },
   "file_extension": ".py",
   "mimetype": "text/x-python",
   "name": "python",
   "nbconvert_exporter": "python",
   "pygments_lexer": "ipython3",
   "version": "3.8.8"
  },
  "latex_envs": {
   "LaTeX_envs_menu_present": true,
   "autoclose": false,
   "autocomplete": true,
   "bibliofile": "biblio.bib",
   "cite_by": "apalike",
   "current_citInitial": 1,
   "eqLabelWithNumbers": true,
   "eqNumInitial": 1,
   "hotkeys": {
    "equation": "Ctrl-E",
    "itemize": "Ctrl-I"
   },
   "labels_anchors": false,
   "latex_user_defs": false,
   "report_style_numbering": false,
   "user_envs_cfg": false
  },
  "toc": {
   "base_numbering": 1,
   "nav_menu": {},
   "number_sections": true,
   "sideBar": false,
   "skip_h1_title": false,
   "title_cell": "Table of Contents",
   "title_sidebar": "Contents",
   "toc_cell": false,
   "toc_position": {
    "height": "1152.67px",
    "left": "41px",
    "top": "110px",
    "width": "253.458px"
   },
   "toc_section_display": true,
   "toc_window_display": false
  },
  "varInspector": {
   "cols": {
    "lenName": 16,
    "lenType": 16,
    "lenVar": 40
   },
   "kernels_config": {
    "python": {
     "delete_cmd_postfix": "",
     "delete_cmd_prefix": "del ",
     "library": "var_list.py",
     "varRefreshCmd": "print(var_dic_list())"
    },
    "r": {
     "delete_cmd_postfix": ") ",
     "delete_cmd_prefix": "rm(",
     "library": "var_list.r",
     "varRefreshCmd": "cat(var_dic_list()) "
    }
   },
   "types_to_exclude": [
    "module",
    "function",
    "builtin_function_or_method",
    "instance",
    "_Feature"
   ],
   "window_display": false
  }
 },
 "nbformat": 4,
 "nbformat_minor": 4
} 
       
       
       
    "## controles de versiones\n",
    "1. Cada vez que resuelva un ejercicio (del 1 al 10), utilizando Git Bash, GitHub Desktop o Atom realice un *git push* con el mensaje: \n",
    "\n",
    "\n",
    "<font color='red'>Apellido Nombre ha resuelto el ejercicio 1</font> % Cambie con sus apellidos y nombres; y con el número de ejercicio que corresponda \n",
    "\n",
    "2. Coloque aquí las capturas de pantalla para cada git push realizado desde Git Bash, GitHub Desktop o Atom. \n",
    "\n",
    "- Control de versión ejercicio 1\n",
    "\n",
    "<img src=\"./Pregunta_7_a.png\" width=600 height=450 />\n",
    "\n",
    "- Control de versión ejercicio 2\n",
    "\n",
    "<img src=\"./Pregunta_7_b.png\" width=600 height=450 />\n",
    "\n",
    "- Control de versión ejercicio 3\n",
    "\n",
    "<img src=\"./Pregunta_7_c.png\" width=600 height=450 />\n",
    "\n",
    "- Control de versión ejercicio 4\n",
    "\n",
    "<img src=\"./Pregunta_7_d.png\" width=600 height=450 />\n",
    "\n",
    "- Control de versión ejercicio 5\n",
    "\n",
    "<img src=\"./Pregunta_7_e.png\" width=600 height=450 />\n",
    "\n",
    "- Control de versión ejercicio 8\n",
    "\n",
    "<img src=\"./Pregunta_7_f.png\" width=600 height=450 />\n",
    "\n",
    "- Control de versión ejercicio 9\n",
    "\n",
    "<img src=\"./Pregunta_7_g.png\" width=600 height=450 />\n",
    "\n",
    "- Control de versión ejercicio 10\n",
    "\n",
    "<img src=\"./Pregunta_7_h.png\" width=600 height=450 />\n",
    "\n",
    "\n",
    "3. Cree un directorio de nombre ```data``` donde deben estar guardados: (i) la data utilizada y (ii) las capturas de pantalla de los ejercicios 1 al 3 y los git push del ejercicio 1 al 10 (en total debe tener 13 imágenes). \n",
    "4. Inserte aquí el enlace de su repositorio (válido para el ejercicio 6 y 7): [GitHub Repository: GBI6_ExamenParcial1](https://github.com/gualapuromoises/2021_gbi6.git) (este enlace es de ejemplo)"
   ]
  },
  {
   "cell_type": "markdown",
   "metadata": {},
   "source": [
    "# 3. INTRODUCCIÓN A PYTHON\n",
    "\n",
   
